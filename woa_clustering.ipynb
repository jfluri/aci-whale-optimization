{
 "cells": [
  {
   "cell_type": "markdown",
   "metadata": {},
   "source": [
    "WOA Clustering Algorithm"
   ]
  },
  {
   "cell_type": "code",
   "execution_count": 34,
   "metadata": {},
   "outputs": [],
   "source": [
    "import numpy as np\n",
    "import pandas as pd\n",
    "from sklearn.preprocessing import MinMaxScaler\n",
    "from numpy.linalg import norm"
   ]
  },
  {
   "cell_type": "code",
   "execution_count": 35,
   "metadata": {},
   "outputs": [],
   "source": [
    "df = pd.read_csv('https://archive.ics.uci.edu/ml/machine-learning-databases/wine/wine.data',header=None)\n",
    "scaler = MinMaxScaler()\n",
    "df = scaler.fit_transform(df)\n",
    "df = pd.DataFrame(df)\n",
    "df = df.sample(frac=1)"
   ]
  },
  {
   "cell_type": "code",
   "execution_count": 36,
   "metadata": {},
   "outputs": [],
   "source": [
    "df.columns = [\"class\",\n",
    "            \"alcohol\",\n",
    "            \"malic_acid\",\n",
    "            \"ash\",\n",
    "            \"alcalinity_of_ash\",\n",
    "            \"magnesium\",\n",
    "            \"total_phenols\",\n",
    "            \"flavanoids\",\n",
    "            \"nonflavanoid_phenols\",\n",
    "            \"proanthocayanins\",\n",
    "            \"color_intensity\",\n",
    "            \"hue\",\n",
    "            \"od280\",\n",
    "            \"proline\"]\n",
    "df = df.drop([\"class\"],axis=1)"
   ]
  },
  {
   "cell_type": "code",
   "execution_count": 37,
   "metadata": {},
   "outputs": [],
   "source": [
    "def init_whale(spaceDim,numCenters,numPopulation,lowerBound,upperBound):\n",
    "    whalePop = []\n",
    "    for i in range(numPopulation):\n",
    "        tmp = np.random.rand(numCenters*spaceDim)*(upperBound-lowerBound)-(upperBound-lowerBound)/2\n",
    "        whalePop.append(tmp)\n",
    "    return whalePop"
   ]
  },
  {
   "cell_type": "code",
   "execution_count": 38,
   "metadata": {},
   "outputs": [],
   "source": [
    "maxIter = 100\n",
    "numPopulation = 10\n",
    "spaceDim = len(df.columns)\n",
    "P = len(df) #178\n",
    "numCenters = 3\n",
    "lowerBound = 0 #must be negativ\n",
    "upperBound = 1 #must be positive\n",
    "b = 1.0 #dd0.618\n",
    "#LSSI = 999999999"
   ]
  },
  {
   "cell_type": "code",
   "execution_count": 39,
   "metadata": {},
   "outputs": [],
   "source": [
    "whalePop = init_whale(spaceDim,numCenters,numPopulation,lowerBound,upperBound)"
   ]
  },
  {
   "cell_type": "code",
   "execution_count": 40,
   "metadata": {},
   "outputs": [
    {
     "name": "stdout",
     "output_type": "stream",
     "text": [
      "Iteration 0, Fitness of best whale 269.0028008831346\n",
      "Iteration 1, Fitness of best whale 164.48050452194008\n",
      "Iteration 2, Fitness of best whale 156.91849888890104\n",
      "Iteration 3, Fitness of best whale 153.4343080979847\n",
      "Iteration 4, Fitness of best whale 148.01773973430338\n",
      "Iteration 5, Fitness of best whale 147.24336828602455\n",
      "Iteration 6, Fitness of best whale 147.15476275212012\n",
      "Iteration 7, Fitness of best whale 142.04539210169688\n",
      "Iteration 8, Fitness of best whale 140.3765728291574\n",
      "Iteration 9, Fitness of best whale 139.45443405820433\n",
      "Iteration 10, Fitness of best whale 137.001440581995\n",
      "Iteration 11, Fitness of best whale 131.39942948951798\n",
      "Iteration 12, Fitness of best whale 130.24182387046866\n",
      "Iteration 13, Fitness of best whale 128.61634648180188\n",
      "Iteration 14, Fitness of best whale 128.61634648180188\n",
      "Iteration 15, Fitness of best whale 128.61634648180188\n",
      "Iteration 16, Fitness of best whale 128.39719242306592\n",
      "Iteration 17, Fitness of best whale 128.39719242306592\n",
      "Iteration 18, Fitness of best whale 128.39719242306592\n",
      "Iteration 19, Fitness of best whale 128.39719242306592\n",
      "Iteration 20, Fitness of best whale 128.39719242306592\n",
      "Iteration 21, Fitness of best whale 128.39719242306592\n",
      "Iteration 22, Fitness of best whale 128.39719242306592\n",
      "Iteration 23, Fitness of best whale 128.39719242306592\n",
      "Iteration 24, Fitness of best whale 128.39719242306592\n",
      "Iteration 25, Fitness of best whale 128.33950863384072\n",
      "Iteration 26, Fitness of best whale 128.33950863384072\n",
      "Iteration 27, Fitness of best whale 128.31664462435134\n",
      "Iteration 28, Fitness of best whale 128.31664462435134\n",
      "Iteration 29, Fitness of best whale 128.31664462435134\n",
      "Iteration 30, Fitness of best whale 128.31664462435134\n",
      "Iteration 31, Fitness of best whale 128.31664462435134\n",
      "Iteration 32, Fitness of best whale 128.06316145332383\n",
      "Iteration 33, Fitness of best whale 128.06316145332383\n",
      "Iteration 34, Fitness of best whale 128.06316145332383\n",
      "Iteration 35, Fitness of best whale 127.7026996138327\n",
      "Iteration 36, Fitness of best whale 127.7026996138327\n",
      "Iteration 37, Fitness of best whale 127.7026996138327\n",
      "Iteration 38, Fitness of best whale 127.7026996138327\n",
      "Iteration 39, Fitness of best whale 127.7026996138327\n",
      "Iteration 40, Fitness of best whale 127.7026996138327\n",
      "Iteration 41, Fitness of best whale 127.21619782248821\n",
      "Iteration 42, Fitness of best whale 127.21619782248821\n",
      "Iteration 43, Fitness of best whale 126.83872922505958\n",
      "Iteration 44, Fitness of best whale 126.83872922505958\n",
      "Iteration 45, Fitness of best whale 126.83872922505958\n",
      "Iteration 46, Fitness of best whale 126.54236803887343\n",
      "Iteration 47, Fitness of best whale 126.54236803887343\n",
      "Iteration 48, Fitness of best whale 125.56880828625413\n",
      "Iteration 49, Fitness of best whale 124.9291215058897\n",
      "Iteration 50, Fitness of best whale 124.9291215058897\n",
      "Iteration 51, Fitness of best whale 123.5439326443846\n",
      "Iteration 52, Fitness of best whale 123.5439326443846\n",
      "Iteration 53, Fitness of best whale 122.76757824492384\n",
      "Iteration 54, Fitness of best whale 122.1566548083263\n",
      "Iteration 55, Fitness of best whale 122.1566548083263\n",
      "Iteration 56, Fitness of best whale 121.56075138993518\n",
      "Iteration 57, Fitness of best whale 120.29515992679089\n",
      "Iteration 58, Fitness of best whale 120.29515992679089\n",
      "Iteration 59, Fitness of best whale 120.16788694643226\n",
      "Iteration 60, Fitness of best whale 120.16788694643226\n",
      "Iteration 61, Fitness of best whale 119.86205365753452\n",
      "Iteration 62, Fitness of best whale 118.85848869536784\n",
      "Iteration 63, Fitness of best whale 118.6554112548978\n",
      "Iteration 64, Fitness of best whale 117.72775240882714\n",
      "Iteration 65, Fitness of best whale 117.72775240882714\n",
      "Iteration 66, Fitness of best whale 117.72775240882714\n",
      "Iteration 67, Fitness of best whale 117.6770095892962\n",
      "Iteration 68, Fitness of best whale 117.6770095892962\n",
      "Iteration 69, Fitness of best whale 117.39023561958312\n",
      "Iteration 70, Fitness of best whale 117.35297743565665\n",
      "Iteration 71, Fitness of best whale 117.27109389723034\n",
      "Iteration 72, Fitness of best whale 116.36547148252973\n",
      "Iteration 73, Fitness of best whale 115.29170464307555\n",
      "Iteration 74, Fitness of best whale 114.91951019675264\n",
      "Iteration 75, Fitness of best whale 114.30359497028086\n",
      "Iteration 76, Fitness of best whale 114.26346055578637\n",
      "Iteration 77, Fitness of best whale 114.04067671036388\n",
      "Iteration 78, Fitness of best whale 113.82195383692516\n",
      "Iteration 79, Fitness of best whale 113.82195383692516\n",
      "Iteration 80, Fitness of best whale 113.45536578927499\n",
      "Iteration 81, Fitness of best whale 113.28393507518754\n",
      "Iteration 82, Fitness of best whale 113.18841512012071\n",
      "Iteration 83, Fitness of best whale 112.04433496306994\n",
      "Iteration 84, Fitness of best whale 111.23207407810142\n",
      "Iteration 85, Fitness of best whale 111.23207407810142\n",
      "Iteration 86, Fitness of best whale 111.23207407810142\n",
      "Iteration 87, Fitness of best whale 111.23207407810142\n",
      "Iteration 88, Fitness of best whale 111.10503633719706\n",
      "Iteration 89, Fitness of best whale 111.10503633719706\n",
      "Iteration 90, Fitness of best whale 111.10503633719706\n",
      "Iteration 91, Fitness of best whale 111.10503633719706\n",
      "Iteration 92, Fitness of best whale 111.10503633719706\n",
      "Iteration 93, Fitness of best whale 111.03020611202422\n",
      "Iteration 94, Fitness of best whale 109.57459313128223\n",
      "Iteration 95, Fitness of best whale 109.17419444797439\n",
      "Iteration 96, Fitness of best whale 109.17419444797439\n",
      "Iteration 97, Fitness of best whale 109.17147580082569\n",
      "Iteration 98, Fitness of best whale 109.14569391596106\n",
      "Iteration 99, Fitness of best whale 109.1435252398371\n"
     ]
    }
   ],
   "source": [
    "t = 0\n",
    "count = 0\n",
    "bestWhale = None\n",
    "currentBestWhale = None\n",
    "fitness_vec = []\n",
    "\n",
    "while t<maxIter:        \n",
    "    \n",
    "    #STEP 1 ---------------------------------------\n",
    "    \n",
    "    fitnessPop = []\n",
    "    for whale in whalePop:\n",
    "\n",
    "        fitnessWhale = 0\n",
    "        for p in range(P):\n",
    "            distances = [norm(df.iloc[p]-whale[0:13]),norm(df.iloc[p]-whale[13:26]),norm(df.iloc[p]-whale[26:39])]\n",
    "            idxDist = np.argmin(distances)\n",
    "            fitnessWhale += distances[idxDist]\n",
    "        fitnessPop.append(fitnessWhale)\n",
    "        count += 1\n",
    "    idxFit = np.argmin(fitnessPop)\n",
    "    bestWhale = whalePop[idxFit]\n",
    "    fitness_vec.append(fitnessPop[idxFit])\n",
    "    \n",
    "    print(\"Iteration \"+str(t)+\", Fitness of best whale \"+str(fitnessPop[idxFit]))\n",
    "        \n",
    "    #STEP 2 ---------------------------------------\n",
    "    \n",
    "    for i,whale in enumerate(whalePop,0):\n",
    "        \n",
    "        if i != idxFit: #keep best whale\n",
    "            \n",
    "            #Update values a,A,C,l,p\n",
    "            a = 2-(2*t)/maxIter #decreases linearly from 2 to 0\n",
    "            r = np.ones(numCenters*spaceDim)*np.random.uniform(0,1,1)[0] #a vector filled with the same random number in [0,1]\n",
    "            A = 2*a*r-a #a vector filled with the same random value in [-a,a]\n",
    "            C = 2*r\n",
    "            p = np.random.uniform(0,1,1)[0]\n",
    "            l = np.random.uniform(-1,1,1)[0]\n",
    "\n",
    "            if p < 0.5:\n",
    "                if norm(A) < 1:\n",
    "\n",
    "                    #Phase of encircling\n",
    "                    #Note that with increasing iteration exploration will stop\n",
    "                    #D = np.abs(np.multiply(C,bestWhale)-whale)\n",
    "                    D = np.multiply(C,bestWhale)-whale\n",
    "                    whalePop[i] = bestWhale-np.multiply(A,D)\n",
    "\n",
    "                elif norm(A) >= 1: \n",
    "\n",
    "                    #Phase of exploration\n",
    "                    XRand = np.random.rand(numCenters*spaceDim) #must not necessarily be in [0,1]\n",
    "                    #D = np.abs(np.multiply(C,bestWhale)-whale)\n",
    "                    D = np.multiply(C,bestWhale)-whale\n",
    "                    whalePop[i] = XRand-np.multiply(A,D)\n",
    "\n",
    "            elif p>= 0.5:\n",
    "\n",
    "                #Phase of spiral\n",
    "                D_ = bestWhale-whale\n",
    "                whalePop[i] = D_*np.exp(b*l)*np.cos(2*np.pi*l)+bestWhale\n",
    "\n",
    "            #Bring back whale which is out of search space\n",
    "            for j,coordinate in enumerate(bestWhale,0):\n",
    "                if coordinate > 1:\n",
    "                    bestWhale[j] = 0.5\n",
    "                elif coordinate < 0:\n",
    "                    bestWhale[j] = 0.5\n",
    "            \n",
    "    t += 1"
   ]
  },
  {
   "cell_type": "code",
   "execution_count": 41,
   "metadata": {},
   "outputs": [],
   "source": [
    "z1,z2,z3 = bestWhale[0:13],bestWhale[13:26],bestWhale[26:39]"
   ]
  },
  {
   "cell_type": "code",
   "execution_count": 42,
   "metadata": {},
   "outputs": [],
   "source": [
    "cluster = []\n",
    "for p in range(P):\n",
    "    distances = [norm(df.iloc[p]-z1),norm(df.iloc[p]-z2),norm(df.iloc[p]-z3)]\n",
    "    cluster.append(np.argmin(distances)+1)\n",
    "df[\"cluster\"] = cluster"
   ]
  },
  {
   "cell_type": "code",
   "execution_count": 43,
   "metadata": {},
   "outputs": [
    {
     "name": "stdout",
     "output_type": "stream",
     "text": [
      "SSE: 0.6131658721339163\n"
     ]
    }
   ],
   "source": [
    "SSE = 0\n",
    "df_tmp = df.drop([\"cluster\"],axis=1)\n",
    "for p in range(P):\n",
    "    if df.iloc[p].cluster == 1:\n",
    "        SSE += norm(df_tmp.iloc[p]-z1)\n",
    "    if df.iloc[p].cluster == 2:\n",
    "        SSE += norm(df_tmp.iloc[p]-z2)\n",
    "    if df.iloc[p].cluster == 3:\n",
    "        SSE += norm(df_tmp.iloc[p]-z3)\n",
    "print(\"SSE: \"+str(SSE/len(df))) #best:0.59"
   ]
  },
  {
   "cell_type": "code",
   "execution_count": 44,
   "metadata": {},
   "outputs": [
    {
     "name": "stdout",
     "output_type": "stream",
     "text": [
      "59 57 62\n"
     ]
    }
   ],
   "source": [
    "x = np.sort(df.cluster.values)\n",
    "count1 = 0\n",
    "count2 = 0\n",
    "count3 = 0\n",
    "for i in range(len(x)):\n",
    "    if x[i] == 1:\n",
    "        count1 += 1\n",
    "    if x[i] == 2:\n",
    "        count2 += 1\n",
    "    if x[i] == 3:\n",
    "        count3 += 1\n",
    "print(count1,count2,count3) #should be (59,71,48)"
   ]
  },
  {
   "cell_type": "code",
   "execution_count": null,
   "metadata": {},
   "outputs": [],
   "source": []
  }
 ],
 "metadata": {
  "kernelspec": {
   "display_name": "Python 3",
   "language": "python",
   "name": "python3"
  },
  "language_info": {
   "codemirror_mode": {
    "name": "ipython",
    "version": 3
   },
   "file_extension": ".py",
   "mimetype": "text/x-python",
   "name": "python",
   "nbconvert_exporter": "python",
   "pygments_lexer": "ipython3",
   "version": "3.8.3"
  }
 },
 "nbformat": 4,
 "nbformat_minor": 2
}
